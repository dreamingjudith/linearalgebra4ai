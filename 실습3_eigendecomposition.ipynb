{
  "nbformat": 4,
  "nbformat_minor": 0,
  "metadata": {
    "anaconda-cloud": {},
    "kernelspec": {
      "display_name": "Python 3",
      "language": "python",
      "name": "python3"
    },
    "language_info": {
      "codemirror_mode": {
        "name": "ipython",
        "version": 3
      },
      "file_extension": ".py",
      "mimetype": "text/x-python",
      "name": "python",
      "nbconvert_exporter": "python",
      "pygments_lexer": "ipython3",
      "version": "3.6.5"
    },
    "colab": {
      "name": "실습3_eigendecomposition.ipynb",
      "provenance": [],
      "include_colab_link": true
    }
  },
  "cells": [
    {
      "cell_type": "markdown",
      "metadata": {
        "id": "view-in-github",
        "colab_type": "text"
      },
      "source": [
        "<a href=\"https://colab.research.google.com/github/dreamingjudith/linearalgebra4ai/blob/master/%E1%84%89%E1%85%B5%E1%86%AF%E1%84%89%E1%85%B3%E1%86%B83_eigendecomposition.ipynb\" target=\"_parent\"><img src=\"https://colab.research.google.com/assets/colab-badge.svg\" alt=\"Open In Colab\"/></a>"
      ]
    },
    {
      "cell_type": "code",
      "metadata": {
        "id": "O5yOxj5H4B0l",
        "colab_type": "code",
        "colab": {}
      },
      "source": [
        "import numpy as np\n",
        "import numpy.linalg as la\n",
        "from numpy.linalg import eig\n",
        "from numpy.linalg import inv\n",
        "\n",
        "import time"
      ],
      "execution_count": 0,
      "outputs": []
    },
    {
      "cell_type": "code",
      "metadata": {
        "id": "KvSdSh284B0r",
        "colab_type": "code",
        "colab": {
          "base_uri": "https://localhost:8080/",
          "height": 68
        },
        "outputId": "8ea5897e-f521-4989-ce96-9958b2deeafe"
      },
      "source": [
        "# diagonalization and power of a matrix\n",
        "A = np.array([[4, 0, -2], [2, 5, 4], [0, 0, 5]])\n",
        "A"
      ],
      "execution_count": 2,
      "outputs": [
        {
          "output_type": "execute_result",
          "data": {
            "text/plain": [
              "array([[ 4,  0, -2],\n",
              "       [ 2,  5,  4],\n",
              "       [ 0,  0,  5]])"
            ]
          },
          "metadata": {
            "tags": []
          },
          "execution_count": 2
        }
      ]
    },
    {
      "cell_type": "code",
      "metadata": {
        "id": "49_RGHu_4B0y",
        "colab_type": "code",
        "colab": {}
      },
      "source": [
        "eig_val, eig_vec = eig(A)"
      ],
      "execution_count": 0,
      "outputs": []
    },
    {
      "cell_type": "code",
      "metadata": {
        "id": "VWq2XEnE4B01",
        "colab_type": "code",
        "colab": {
          "base_uri": "https://localhost:8080/",
          "height": 34
        },
        "outputId": "f9cfcf5f-6283-4261-ccd7-466cb7d98b42"
      },
      "source": [
        "eig_val"
      ],
      "execution_count": 4,
      "outputs": [
        {
          "output_type": "execute_result",
          "data": {
            "text/plain": [
              "array([5., 4., 5.])"
            ]
          },
          "metadata": {
            "tags": []
          },
          "execution_count": 4
        }
      ]
    },
    {
      "cell_type": "code",
      "metadata": {
        "id": "jb_fL_qE4B05",
        "colab_type": "code",
        "colab": {
          "base_uri": "https://localhost:8080/",
          "height": 68
        },
        "outputId": "e39355a9-2d3e-4e78-9b43-5657464cf7bd"
      },
      "source": [
        "eig_vec"
      ],
      "execution_count": 5,
      "outputs": [
        {
          "output_type": "execute_result",
          "data": {
            "text/plain": [
              "array([[ 0.        ,  0.4472136 , -0.89442719],\n",
              "       [ 1.        , -0.89442719,  0.        ],\n",
              "       [ 0.        ,  0.        ,  0.4472136 ]])"
            ]
          },
          "metadata": {
            "tags": []
          },
          "execution_count": 5
        }
      ]
    },
    {
      "cell_type": "code",
      "metadata": {
        "id": "N7Fo3i954B09",
        "colab_type": "code",
        "colab": {
          "base_uri": "https://localhost:8080/",
          "height": 68
        },
        "outputId": "f52d4efc-e00e-4445-8139-fe0e72f7c875"
      },
      "source": [
        "D = np.diag(eig_val)\n",
        "D"
      ],
      "execution_count": 6,
      "outputs": [
        {
          "output_type": "execute_result",
          "data": {
            "text/plain": [
              "array([[5., 0., 0.],\n",
              "       [0., 4., 0.],\n",
              "       [0., 0., 5.]])"
            ]
          },
          "metadata": {
            "tags": []
          },
          "execution_count": 6
        }
      ]
    },
    {
      "cell_type": "code",
      "metadata": {
        "id": "aiOrhaDT4B1C",
        "colab_type": "code",
        "colab": {
          "base_uri": "https://localhost:8080/",
          "height": 68
        },
        "outputId": "315e7daa-370b-4778-80b8-0e9e01bd12be"
      },
      "source": [
        "V = eig_vec\n",
        "V"
      ],
      "execution_count": 7,
      "outputs": [
        {
          "output_type": "execute_result",
          "data": {
            "text/plain": [
              "array([[ 0.        ,  0.4472136 , -0.89442719],\n",
              "       [ 1.        , -0.89442719,  0.        ],\n",
              "       [ 0.        ,  0.        ,  0.4472136 ]])"
            ]
          },
          "metadata": {
            "tags": []
          },
          "execution_count": 7
        }
      ]
    },
    {
      "cell_type": "code",
      "metadata": {
        "id": "c-O43KFP4B1G",
        "colab_type": "code",
        "colab": {
          "base_uri": "https://localhost:8080/",
          "height": 68
        },
        "outputId": "d7c85e11-e03e-4b63-b8c7-017462990710"
      },
      "source": [
        "V.dot(D).dot(la.inv(V))"
      ],
      "execution_count": 9,
      "outputs": [
        {
          "output_type": "execute_result",
          "data": {
            "text/plain": [
              "array([[ 4.,  0., -2.],\n",
              "       [ 2.,  5.,  4.],\n",
              "       [ 0.,  0.,  5.]])"
            ]
          },
          "metadata": {
            "tags": []
          },
          "execution_count": 9
        }
      ]
    },
    {
      "cell_type": "code",
      "metadata": {
        "id": "5XvINl3s4B1K",
        "colab_type": "code",
        "colab": {
          "base_uri": "https://localhost:8080/",
          "height": 68
        },
        "outputId": "148b3197-2d1b-45fc-fd5c-6e7f7ee9ae04"
      },
      "source": [
        "la.matrix_power(A,5)"
      ],
      "execution_count": 10,
      "outputs": [
        {
          "output_type": "execute_result",
          "data": {
            "text/plain": [
              "array([[ 1024,     0, -4202],\n",
              "       [ 4202,  3125,  8404],\n",
              "       [    0,     0,  3125]])"
            ]
          },
          "metadata": {
            "tags": []
          },
          "execution_count": 10
        }
      ]
    },
    {
      "cell_type": "code",
      "metadata": {
        "id": "x4H06u-G4B1N",
        "colab_type": "code",
        "colab": {
          "base_uri": "https://localhost:8080/",
          "height": 68
        },
        "outputId": "c77f0fcb-7b3d-4ecd-d98c-fbea00eff5df"
      },
      "source": [
        "D_power_5 = np.diag(eig_val**5)\n",
        "D_power_5"
      ],
      "execution_count": 11,
      "outputs": [
        {
          "output_type": "execute_result",
          "data": {
            "text/plain": [
              "array([[3125.,    0.,    0.],\n",
              "       [   0., 1024.,    0.],\n",
              "       [   0.,    0., 3125.]])"
            ]
          },
          "metadata": {
            "tags": []
          },
          "execution_count": 11
        }
      ]
    },
    {
      "cell_type": "code",
      "metadata": {
        "id": "sqAGoyKq4B1R",
        "colab_type": "code",
        "colab": {
          "base_uri": "https://localhost:8080/",
          "height": 68
        },
        "outputId": "48e5334a-8cb7-4bd5-b18f-a6cd144a8cc5"
      },
      "source": [
        "V.dot(D_power_5).dot(la.inv(V))"
      ],
      "execution_count": 12,
      "outputs": [
        {
          "output_type": "execute_result",
          "data": {
            "text/plain": [
              "array([[ 1024.,     0., -4202.],\n",
              "       [ 4202.,  3125.,  8404.],\n",
              "       [    0.,     0.,  3125.]])"
            ]
          },
          "metadata": {
            "tags": []
          },
          "execution_count": 12
        }
      ]
    },
    {
      "cell_type": "code",
      "metadata": {
        "id": "SyOGA1VD4B1W",
        "colab_type": "code",
        "colab": {},
        "outputId": "d276ba0b-c44e-4673-d3c4-917cd8485008"
      },
      "source": [
        "# 연산속도 실험 (1)\n",
        "# create a matrix A\n",
        "A = np.array([[4., 4, 2, 3, -2], [0, 1, -2, -2, 2], [6, 12, 11, 2, -4], [9, 20, 10, 10, -6], [15, 28, 14, 5, -3]])\n",
        "\n",
        "A = A + A.T\n",
        "A = A/np.expand_dims(np.sum(A, 1), axis = 1)\n",
        "print (A)\n",
        "\n",
        "# initialize parameters\n",
        "x = np.random.rand(5)\n",
        "n_times = 1000000\n",
        "\n",
        "# perform matrix multiplications\n",
        "y = x\n",
        "start_time = time.time()\n",
        "for i in range(0, n_times):\n",
        "    y = A.dot(y)\n",
        "end_time = time.time()\n",
        "elapse_time = end_time - start_time\n",
        "print (y)\n",
        "print (elapse_time)"
      ],
      "execution_count": 0,
      "outputs": [
        {
          "output_type": "stream",
          "text": [
            "[[ 0.17777778  0.08888889  0.17777778  0.26666667  0.28888889]\n",
            " [ 0.0625      0.03125     0.15625     0.28125     0.46875   ]\n",
            " [ 0.12903226  0.16129032  0.35483871  0.19354839  0.16129032]\n",
            " [ 0.19672131  0.29508197  0.19672131  0.32786885 -0.01639344]\n",
            " [ 0.2826087   0.65217391  0.2173913  -0.02173913 -0.13043478]]\n",
            "[ 0.51562245  0.51562245  0.51562245  0.51562245  0.51562245]\n",
            "0.8648059368133545\n"
          ],
          "name": "stdout"
        }
      ]
    },
    {
      "cell_type": "code",
      "metadata": {
        "id": "dcALsWwt4B1b",
        "colab_type": "code",
        "colab": {},
        "outputId": "69925bbb-d739-4f70-b6e4-74e6fea2d570"
      },
      "source": [
        "# 연산속도 실험 (2)\n",
        "eig_val, eig_vec = eig(A)\n",
        "D = np.diag(eig_val)\n",
        "V = eig_vec\n",
        "\n",
        "# perform matrix multiplications using eigendecomposition\n",
        "start_time = time.time()\n",
        "y = V.dot((eig_val**n_times)*la.solve(V,x)) # la.solve(V,x)는 Va=x 를 만족하는 a\n",
        "end_time = time.time()\n",
        "elapse_time = end_time - start_time\n",
        "print (y)\n",
        "print (elapse_time)"
      ],
      "execution_count": 0,
      "outputs": [
        {
          "output_type": "stream",
          "text": [
            "[ 0.51562245  0.51562245  0.51562245  0.51562245  0.51562245]\n",
            "0.00035500526428222656\n"
          ],
          "name": "stdout"
        }
      ]
    },
    {
      "cell_type": "code",
      "metadata": {
        "id": "wvOmAOFT4B1f",
        "colab_type": "code",
        "colab": {}
      },
      "source": [
        ""
      ],
      "execution_count": 0,
      "outputs": []
    }
  ]
}