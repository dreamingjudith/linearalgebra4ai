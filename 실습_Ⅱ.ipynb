{
  "nbformat": 4,
  "nbformat_minor": 0,
  "metadata": {
    "anaconda-cloud": {},
    "kernelspec": {
      "display_name": "Python 3",
      "language": "python",
      "name": "python3"
    },
    "language_info": {
      "codemirror_mode": {
        "name": "ipython",
        "version": 3
      },
      "file_extension": ".py",
      "mimetype": "text/x-python",
      "name": "python",
      "nbconvert_exporter": "python",
      "pygments_lexer": "ipython3",
      "version": "3.6.1"
    },
    "colab": {
      "name": "실습 Ⅱ.ipynb",
      "provenance": [],
      "include_colab_link": true
    }
  },
  "cells": [
    {
      "cell_type": "markdown",
      "metadata": {
        "id": "view-in-github",
        "colab_type": "text"
      },
      "source": [
        "<a href=\"https://colab.research.google.com/github/dreamingjudith/linearalgebra4ai/blob/master/%E1%84%89%E1%85%B5%E1%86%AF%E1%84%89%E1%85%B3%E1%86%B8_%E2%85%A1.ipynb\" target=\"_parent\"><img src=\"https://colab.research.google.com/assets/colab-badge.svg\" alt=\"Open In Colab\"/></a>"
      ]
    },
    {
      "cell_type": "code",
      "metadata": {
        "id": "6yWzJWiGzj8p",
        "colab_type": "code",
        "colab": {}
      },
      "source": [
        "import numpy as np"
      ],
      "execution_count": 0,
      "outputs": []
    },
    {
      "cell_type": "code",
      "metadata": {
        "id": "Ce0kJLfBzj8w",
        "colab_type": "code",
        "colab": {}
      },
      "source": [
        "A=np.array([[11,12,13,14],[15,16,17,18]])"
      ],
      "execution_count": 0,
      "outputs": []
    },
    {
      "cell_type": "code",
      "metadata": {
        "id": "HpqX7LJKzj80",
        "colab_type": "code",
        "colab": {}
      },
      "source": [
        "# least squares y ~= ax+b\n",
        "# input data\n",
        "x = np.array([0, 1, 2, 3]) # key\n",
        "y = np.array([-1, 0.2, 0.9, 2.1]) # target value (예상수명 같은 것)"
      ],
      "execution_count": 0,
      "outputs": []
    },
    {
      "cell_type": "code",
      "metadata": {
        "id": "_XBwBLs9zj85",
        "colab_type": "code",
        "colab": {
          "base_uri": "https://localhost:8080/",
          "height": 85
        },
        "outputId": "dfb556f1-9c0e-42cd-fece-59a8256dffbf"
      },
      "source": [
        "# concatnate a constant term\n",
        "A = np.vstack([x, np.ones(len(x))]).T\n",
        "A"
      ],
      "execution_count": 5,
      "outputs": [
        {
          "output_type": "execute_result",
          "data": {
            "text/plain": [
              "array([[0., 1.],\n",
              "       [1., 1.],\n",
              "       [2., 1.],\n",
              "       [3., 1.]])"
            ]
          },
          "metadata": {
            "tags": []
          },
          "execution_count": 5
        }
      ]
    },
    {
      "cell_type": "code",
      "metadata": {
        "id": "HICo2wrxzj8_",
        "colab_type": "code",
        "colab": {
          "base_uri": "https://localhost:8080/",
          "height": 51
        },
        "outputId": "16bd0ba8-0852-4d48-eb85-f8260e971afc"
      },
      "source": [
        "# create a matrix A'*A\n",
        "At_A = A.T.dot(A)\n",
        "At_A"
      ],
      "execution_count": 6,
      "outputs": [
        {
          "output_type": "execute_result",
          "data": {
            "text/plain": [
              "array([[14.,  6.],\n",
              "       [ 6.,  4.]])"
            ]
          },
          "metadata": {
            "tags": []
          },
          "execution_count": 6
        }
      ]
    },
    {
      "cell_type": "code",
      "metadata": {
        "id": "bIzkuEagzj9D",
        "colab_type": "code",
        "colab": {
          "base_uri": "https://localhost:8080/",
          "height": 34
        },
        "outputId": "86e02b77-a110-48fc-e232-af7a220f3c6e"
      },
      "source": [
        "# create a vector A'*b\n",
        "At_y = A.T.dot(y)\n",
        "At_y"
      ],
      "execution_count": 7,
      "outputs": [
        {
          "output_type": "execute_result",
          "data": {
            "text/plain": [
              "array([8.3, 2.2])"
            ]
          },
          "metadata": {
            "tags": []
          },
          "execution_count": 7
        }
      ]
    },
    {
      "cell_type": "code",
      "metadata": {
        "id": "El9UD0Kazj9H",
        "colab_type": "code",
        "colab": {
          "base_uri": "https://localhost:8080/",
          "height": 34
        },
        "outputId": "02ba966d-12c5-43b4-906b-754f2c06384b"
      },
      "source": [
        "# solve for x\n",
        "from numpy.linalg import solve\n",
        "c = solve(At_A, At_y)\n",
        "c"
      ],
      "execution_count": 8,
      "outputs": [
        {
          "output_type": "execute_result",
          "data": {
            "text/plain": [
              "array([ 1.  , -0.95])"
            ]
          },
          "metadata": {
            "tags": []
          },
          "execution_count": 8
        }
      ]
    },
    {
      "cell_type": "code",
      "metadata": {
        "id": "eezAcLoSzj9M",
        "colab_type": "code",
        "colab": {
          "base_uri": "https://localhost:8080/",
          "height": 34
        },
        "outputId": "1fa510c3-3ae0-4526-a970-9bf03df7bfe4"
      },
      "source": [
        "# fitted value\n",
        "y_fitted = A.dot(c)\n",
        "y_fitted"
      ],
      "execution_count": 9,
      "outputs": [
        {
          "output_type": "execute_result",
          "data": {
            "text/plain": [
              "array([-0.95,  0.05,  1.05,  2.05])"
            ]
          },
          "metadata": {
            "tags": []
          },
          "execution_count": 9
        }
      ]
    },
    {
      "cell_type": "code",
      "metadata": {
        "id": "wyOmwH-Ozj9Q",
        "colab_type": "code",
        "colab": {
          "base_uri": "https://localhost:8080/",
          "height": 265
        },
        "outputId": "dc8b2474-4f40-4318-c721-9986e8f735e4"
      },
      "source": [
        "import matplotlib.pyplot as plt\n",
        "plt.plot(x, y, 'o', label='Original data', markersize=10)\n",
        "plt.plot(x, y_fitted, 'r', label='Fitted line')\n",
        "plt.legend()\n",
        "plt.show()"
      ],
      "execution_count": 10,
      "outputs": [
        {
          "output_type": "display_data",
          "data": {
            "image/png": "[encoded data removed]",
            "text/plain": [
              "<Figure size 432x288 with 1 Axes>"
            ]
          },
          "metadata": {
            "tags": []
          }
        }
      ]
    },
    {
      "cell_type": "code",
      "metadata": {
        "id": "3UoToiO2zj9W",
        "colab_type": "code",
        "colab": {
          "base_uri": "https://localhost:8080/",
          "height": 34
        },
        "outputId": "627ed02b-4289-4ee9-9a93-c60320bed7cb"
      },
      "source": [
        "# compute error vector\n",
        "error = y-y_fitted\n",
        "error"
      ],
      "execution_count": 11,
      "outputs": [
        {
          "output_type": "execute_result",
          "data": {
            "text/plain": [
              "array([-0.05,  0.15, -0.15,  0.05])"
            ]
          },
          "metadata": {
            "tags": []
          },
          "execution_count": 11
        }
      ]
    },
    {
      "cell_type": "code",
      "metadata": {
        "id": "KOVfZXijzj9b",
        "colab_type": "code",
        "colab": {
          "base_uri": "https://localhost:8080/",
          "height": 34
        },
        "outputId": "db543ac6-236d-4328-d73f-909466e08ba1"
      },
      "source": [
        "# calculate error - sum of squared error\n",
        "np.sqrt(np.sum(error**2))"
      ],
      "execution_count": 12,
      "outputs": [
        {
          "output_type": "execute_result",
          "data": {
            "text/plain": [
              "0.22360679774997902"
            ]
          },
          "metadata": {
            "tags": []
          },
          "execution_count": 12
        }
      ]
    },
    {
      "cell_type": "code",
      "metadata": {
        "id": "YMczwiVDzj9k",
        "colab_type": "code",
        "colab": {
          "base_uri": "https://localhost:8080/",
          "height": 34
        },
        "outputId": "9f85935f-fd3f-4800-a3d7-a1a333dde154"
      },
      "source": [
        "# calculate error using 'norm' function\n",
        "from numpy.linalg import norm\n",
        "norm(y-y_fitted) # 길이 구하기"
      ],
      "execution_count": 13,
      "outputs": [
        {
          "output_type": "execute_result",
          "data": {
            "text/plain": [
              "0.22360679774997902"
            ]
          },
          "metadata": {
            "tags": []
          },
          "execution_count": 13
        }
      ]
    },
    {
      "cell_type": "code",
      "metadata": {
        "id": "-twctu7hzj9q",
        "colab_type": "code",
        "colab": {}
      },
      "source": [
        "# example in the slide - 몸무게, 키, 흡연유무\n",
        "A=np.array([[60, 5.5, 1],[65, 4.8, 0],[55, 6.0, 1],[50, 5.0, 1]])\n",
        "b=np.array([66, 70, 78, 72])"
      ],
      "execution_count": 0,
      "outputs": []
    },
    {
      "cell_type": "code",
      "metadata": {
        "id": "-dVD5LaUzj9u",
        "colab_type": "code",
        "colab": {
          "base_uri": "https://localhost:8080/",
          "height": 68
        },
        "outputId": "10672855-1b04-446c-c3c1-556148b41c69"
      },
      "source": [
        "# create a matrix A'*A\n",
        "At_A = A.T.dot(A)\n",
        "At_A"
      ],
      "execution_count": 15,
      "outputs": [
        {
          "output_type": "execute_result",
          "data": {
            "text/plain": [
              "array([[1.3350e+04, 1.2220e+03, 1.6500e+02],\n",
              "       [1.2220e+03, 1.1429e+02, 1.6500e+01],\n",
              "       [1.6500e+02, 1.6500e+01, 3.0000e+00]])"
            ]
          },
          "metadata": {
            "tags": []
          },
          "execution_count": 15
        }
      ]
    },
    {
      "cell_type": "code",
      "metadata": {
        "id": "ZDVBVwAOzj9x",
        "colab_type": "code",
        "colab": {
          "base_uri": "https://localhost:8080/",
          "height": 34
        },
        "outputId": "3c53d87e-6c4c-4841-ec5d-c0fe60a9f00d"
      },
      "source": [
        "# create a vector A'*b\n",
        "At_b = A.T.dot(b)\n",
        "At_b"
      ],
      "execution_count": 16,
      "outputs": [
        {
          "output_type": "execute_result",
          "data": {
            "text/plain": [
              "array([16400.,  1527.,   216.])"
            ]
          },
          "metadata": {
            "tags": []
          },
          "execution_count": 16
        }
      ]
    },
    {
      "cell_type": "code",
      "metadata": {
        "id": "T4VOqxY0zj91",
        "colab_type": "code",
        "colab": {
          "base_uri": "https://localhost:8080/",
          "height": 34
        },
        "outputId": "7462e93d-2531-438b-a065-f610bcdef616"
      },
      "source": [
        "from numpy.linalg import solve\n",
        "x = solve(At_A,At_b)\n",
        "x"
      ],
      "execution_count": 17,
      "outputs": [
        {
          "output_type": "execute_result",
          "data": {
            "text/plain": [
              "array([-0.12459016, 16.06557377, -9.50819672])"
            ]
          },
          "metadata": {
            "tags": []
          },
          "execution_count": 17
        }
      ]
    },
    {
      "cell_type": "code",
      "metadata": {
        "id": "fHhPBfJ1zj95",
        "colab_type": "code",
        "colab": {
          "base_uri": "https://localhost:8080/",
          "height": 34
        },
        "outputId": "e0c169cd-7f4c-401b-fe6a-547c14efc036"
      },
      "source": [
        "# fitted value\n",
        "b_fitted = A.dot(x)\n",
        "b_fitted"
      ],
      "execution_count": 18,
      "outputs": [
        {
          "output_type": "execute_result",
          "data": {
            "text/plain": [
              "array([71.37704918, 69.01639344, 80.03278689, 64.59016393])"
            ]
          },
          "metadata": {
            "tags": []
          },
          "execution_count": 18
        }
      ]
    },
    {
      "cell_type": "code",
      "metadata": {
        "id": "LDVv5CxIzj-A",
        "colab_type": "code",
        "colab": {
          "base_uri": "https://localhost:8080/",
          "height": 34
        },
        "outputId": "9e0fd78c-4718-4623-f213-b7b5826401cf"
      },
      "source": [
        "# compute error vector\n",
        "error = b-b_fitted\n",
        "error"
      ],
      "execution_count": 19,
      "outputs": [
        {
          "output_type": "execute_result",
          "data": {
            "text/plain": [
              "array([-5.37704918,  0.98360656, -2.03278689,  7.40983607])"
            ]
          },
          "metadata": {
            "tags": []
          },
          "execution_count": 19
        }
      ]
    },
    {
      "cell_type": "code",
      "metadata": {
        "id": "jodx2h_izj-D",
        "colab_type": "code",
        "colab": {
          "base_uri": "https://localhost:8080/",
          "height": 34
        },
        "outputId": "e3ef380d-8e4e-42e8-d973-0eda3d535721"
      },
      "source": [
        "# calculate error\n",
        "np.sqrt(np.sum(error**2))"
      ],
      "execution_count": 20,
      "outputs": [
        {
          "output_type": "execute_result",
          "data": {
            "text/plain": [
              "9.429635877746577"
            ]
          },
          "metadata": {
            "tags": []
          },
          "execution_count": 20
        }
      ]
    },
    {
      "cell_type": "code",
      "metadata": {
        "id": "6pSlDt5Wzj-I",
        "colab_type": "code",
        "colab": {
          "base_uri": "https://localhost:8080/",
          "height": 34
        },
        "outputId": "3a5c8b60-299b-403d-e1da-89cd458f42f7"
      },
      "source": [
        "# calculate error using 'norm' function\n",
        "from numpy.linalg import norm\n",
        "norm(b-b_fitted)\n"
      ],
      "execution_count": 21,
      "outputs": [
        {
          "output_type": "execute_result",
          "data": {
            "text/plain": [
              "9.429635877746577"
            ]
          },
          "metadata": {
            "tags": []
          },
          "execution_count": 21
        }
      ]
    },
    {
      "cell_type": "code",
      "metadata": {
        "id": "XoErf-qEzj-L",
        "colab_type": "code",
        "colab": {}
      },
      "source": [
        ""
      ],
      "execution_count": 0,
      "outputs": []
    }
  ]
}